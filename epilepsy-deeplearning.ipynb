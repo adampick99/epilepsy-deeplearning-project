{
 "cells": [
  {
   "cell_type": "code",
   "execution_count": 2,
   "outputs": [],
   "source": [
    "import pandas as pd\n",
    "import numpy as np\n",
    "from fastai.data.all import *\n",
    "from fastai.vision.all import *\n",
    "import os"
   ],
   "metadata": {
    "collapsed": false
   }
  },
  {
   "cell_type": "markdown",
   "source": [
    "Magnetic resonance imaging (MRI) is a medical imaging technique that uses a strong magnetic field and radio waves to produce detailed images of the body's internal structures. Because it can produce precise images of the brain's soft tissue, it is frequently employed in the diagnosis of brain cancers.\n",
    "\n",
    "Machine learning techniques can analyse vast volumes of imaging data and spot patterns that may be challenging for human experts to see. To improve the precision and effectiveness of methods for diagnosing brain tumours, researchers are now finding ways to train machine learning models on vast datasets of MRI scans."
   ],
   "metadata": {
    "collapsed": false
   }
  },
  {
   "cell_type": "markdown",
   "source": [
    "This project will utilise the highly efficient *fastai** deep learning package (https://github.com/fastai/fastai) which is built on top of the *PyTorch* library, as I am currently studying deep learning using the course and would like to supplement my learning through the building of a project."
   ],
   "metadata": {
    "collapsed": false
   }
  },
  {
   "cell_type": "code",
   "execution_count": 13,
   "metadata": {
    "collapsed": true
   },
   "outputs": [
    {
     "name": "stdout",
     "output_type": "stream",
     "text": [
      "['no', 'yes']\n",
      "['Brain Tumor', 'Healthy']\n"
     ]
    },
    {
     "data": {
      "text/plain": "                                       image      label\n0  Datasets\\brain_tumor_dataset\\no\\1 no.jpeg  No Tumour\n1  Datasets\\brain_tumor_dataset\\no\\10 no.jpg  No Tumour\n2  Datasets\\brain_tumor_dataset\\no\\11 no.jpg  No Tumour\n3  Datasets\\brain_tumor_dataset\\no\\12 no.jpg  No Tumour\n4  Datasets\\brain_tumor_dataset\\no\\13 no.jpg  No Tumour",
      "text/html": "<div>\n<style scoped>\n    .dataframe tbody tr th:only-of-type {\n        vertical-align: middle;\n    }\n\n    .dataframe tbody tr th {\n        vertical-align: top;\n    }\n\n    .dataframe thead th {\n        text-align: right;\n    }\n</style>\n<table border=\"1\" class=\"dataframe\">\n  <thead>\n    <tr style=\"text-align: right;\">\n      <th></th>\n      <th>image</th>\n      <th>label</th>\n    </tr>\n  </thead>\n  <tbody>\n    <tr>\n      <th>0</th>\n      <td>Datasets\\brain_tumor_dataset\\no\\1 no.jpeg</td>\n      <td>No Tumour</td>\n    </tr>\n    <tr>\n      <th>1</th>\n      <td>Datasets\\brain_tumor_dataset\\no\\10 no.jpg</td>\n      <td>No Tumour</td>\n    </tr>\n    <tr>\n      <th>2</th>\n      <td>Datasets\\brain_tumor_dataset\\no\\11 no.jpg</td>\n      <td>No Tumour</td>\n    </tr>\n    <tr>\n      <th>3</th>\n      <td>Datasets\\brain_tumor_dataset\\no\\12 no.jpg</td>\n      <td>No Tumour</td>\n    </tr>\n    <tr>\n      <th>4</th>\n      <td>Datasets\\brain_tumor_dataset\\no\\13 no.jpg</td>\n      <td>No Tumour</td>\n    </tr>\n  </tbody>\n</table>\n</div>"
     },
     "execution_count": 13,
     "metadata": {},
     "output_type": "execute_result"
    }
   ],
   "source": [
    "# Load dataset\n",
    "data_dir1 = 'Datasets/brain_tumor_dataset'\n",
    "data_dir2 = 'Datasets/brain_tumor_dataset2'\n",
    "\n",
    "# Check the labels for each MRI photo, between each dataset\n",
    "print(os.listdir(f'{data_dir1}'))\n",
    "print(os.listdir(f'{data_dir2}'))\n",
    "\n",
    "# Create dictionary to map label to final label\n",
    "labels = {'yes': 'Tumour', 'Brain Tumor': 'Tumour', 'no': 'No Tumour', 'Healthy': 'No Tumour'}\n",
    "\n",
    "# Merge the two datasets and change labels between datasets using parent_label from fastai\n",
    "df = pd.DataFrame({'image':(*get_image_files(data_dir1), *get_image_files(data_dir2))})\n",
    "df['label'] = df.apply(lambda x: labels[parent_label(x.image)], 'columns')\n",
    "df['size'] = df.apply(lambda x: )\n",
    "\n",
    "df.head()"
   ]
  },
  {
   "cell_type": "markdown",
   "source": [
    "We have two separate datasets containing MRI images that have been classified as having a brain tumour (yes/Brain Tumour folder) or not (no/Healthy folder), which we will merge together. This merging will form the full dataset used to train and validate the deep learning model."
   ],
   "metadata": {
    "collapsed": false
   }
  },
  {
   "cell_type": "markdown",
   "source": [
    "To utilise *fastai* for image classification, we need to build a *DataBlock*, which is an object containing the inputs and labels that we feed into the deep learning algorithm. A DataBlock requires us to specify how large we want the training and validation sets to be."
   ],
   "metadata": {
    "collapsed": false
   }
  },
  {
   "cell_type": "code",
   "execution_count": null,
   "outputs": [],
   "source": [
    "data = DataBlock(blocks = (ImageBlock, CategoryBlock),\n",
    "                 get_items = get_image_files)"
   ],
   "metadata": {
    "collapsed": false
   }
  }
 ],
 "metadata": {
  "kernelspec": {
   "display_name": "Python 3",
   "language": "python",
   "name": "python3"
  },
  "language_info": {
   "codemirror_mode": {
    "name": "ipython",
    "version": 2
   },
   "file_extension": ".py",
   "mimetype": "text/x-python",
   "name": "python",
   "nbconvert_exporter": "python",
   "pygments_lexer": "ipython2",
   "version": "2.7.6"
  }
 },
 "nbformat": 4,
 "nbformat_minor": 0
}
